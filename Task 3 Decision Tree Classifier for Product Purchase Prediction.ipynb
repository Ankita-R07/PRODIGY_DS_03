{
 "cells": [
  {
   "cell_type": "markdown",
   "id": "c7a35440-8f9f-4e83-a7b8-a7f0756c545d",
   "metadata": {},
   "source": [
    "### **Using Bank Dataset**"
   ]
  },
  {
   "cell_type": "markdown",
   "id": "296d1673-f225-4dac-982e-4ae3c19b87e3",
   "metadata": {},
   "source": [
    "### **Step 1 : Load the Data**"
   ]
  },
  {
   "cell_type": "code",
   "execution_count": 3,
   "id": "b78f90ad-1f5b-4669-bdfc-a928f4eaf485",
   "metadata": {},
   "outputs": [
    {
     "data": {
      "text/html": [
       "<div>\n",
       "<style scoped>\n",
       "    .dataframe tbody tr th:only-of-type {\n",
       "        vertical-align: middle;\n",
       "    }\n",
       "\n",
       "    .dataframe tbody tr th {\n",
       "        vertical-align: top;\n",
       "    }\n",
       "\n",
       "    .dataframe thead th {\n",
       "        text-align: right;\n",
       "    }\n",
       "</style>\n",
       "<table border=\"1\" class=\"dataframe\">\n",
       "  <thead>\n",
       "    <tr style=\"text-align: right;\">\n",
       "      <th></th>\n",
       "      <th>age</th>\n",
       "      <th>job</th>\n",
       "      <th>marital</th>\n",
       "      <th>education</th>\n",
       "      <th>default</th>\n",
       "      <th>housing</th>\n",
       "      <th>loan</th>\n",
       "      <th>contact</th>\n",
       "      <th>month</th>\n",
       "      <th>day_of_week</th>\n",
       "      <th>...</th>\n",
       "      <th>campaign</th>\n",
       "      <th>pdays</th>\n",
       "      <th>previous</th>\n",
       "      <th>poutcome</th>\n",
       "      <th>emp.var.rate</th>\n",
       "      <th>cons.price.idx</th>\n",
       "      <th>cons.conf.idx</th>\n",
       "      <th>euribor3m</th>\n",
       "      <th>nr.employed</th>\n",
       "      <th>y</th>\n",
       "    </tr>\n",
       "  </thead>\n",
       "  <tbody>\n",
       "    <tr>\n",
       "      <th>0</th>\n",
       "      <td>56</td>\n",
       "      <td>housemaid</td>\n",
       "      <td>married</td>\n",
       "      <td>basic.4y</td>\n",
       "      <td>no</td>\n",
       "      <td>no</td>\n",
       "      <td>no</td>\n",
       "      <td>telephone</td>\n",
       "      <td>may</td>\n",
       "      <td>mon</td>\n",
       "      <td>...</td>\n",
       "      <td>1</td>\n",
       "      <td>999</td>\n",
       "      <td>0</td>\n",
       "      <td>nonexistent</td>\n",
       "      <td>1.1</td>\n",
       "      <td>93.994</td>\n",
       "      <td>-36.4</td>\n",
       "      <td>4.857</td>\n",
       "      <td>5191.0</td>\n",
       "      <td>no</td>\n",
       "    </tr>\n",
       "    <tr>\n",
       "      <th>1</th>\n",
       "      <td>57</td>\n",
       "      <td>services</td>\n",
       "      <td>married</td>\n",
       "      <td>high.school</td>\n",
       "      <td>unknown</td>\n",
       "      <td>no</td>\n",
       "      <td>no</td>\n",
       "      <td>telephone</td>\n",
       "      <td>may</td>\n",
       "      <td>mon</td>\n",
       "      <td>...</td>\n",
       "      <td>1</td>\n",
       "      <td>999</td>\n",
       "      <td>0</td>\n",
       "      <td>nonexistent</td>\n",
       "      <td>1.1</td>\n",
       "      <td>93.994</td>\n",
       "      <td>-36.4</td>\n",
       "      <td>4.857</td>\n",
       "      <td>5191.0</td>\n",
       "      <td>no</td>\n",
       "    </tr>\n",
       "    <tr>\n",
       "      <th>2</th>\n",
       "      <td>37</td>\n",
       "      <td>services</td>\n",
       "      <td>married</td>\n",
       "      <td>high.school</td>\n",
       "      <td>no</td>\n",
       "      <td>yes</td>\n",
       "      <td>no</td>\n",
       "      <td>telephone</td>\n",
       "      <td>may</td>\n",
       "      <td>mon</td>\n",
       "      <td>...</td>\n",
       "      <td>1</td>\n",
       "      <td>999</td>\n",
       "      <td>0</td>\n",
       "      <td>nonexistent</td>\n",
       "      <td>1.1</td>\n",
       "      <td>93.994</td>\n",
       "      <td>-36.4</td>\n",
       "      <td>4.857</td>\n",
       "      <td>5191.0</td>\n",
       "      <td>no</td>\n",
       "    </tr>\n",
       "    <tr>\n",
       "      <th>3</th>\n",
       "      <td>40</td>\n",
       "      <td>admin.</td>\n",
       "      <td>married</td>\n",
       "      <td>basic.6y</td>\n",
       "      <td>no</td>\n",
       "      <td>no</td>\n",
       "      <td>no</td>\n",
       "      <td>telephone</td>\n",
       "      <td>may</td>\n",
       "      <td>mon</td>\n",
       "      <td>...</td>\n",
       "      <td>1</td>\n",
       "      <td>999</td>\n",
       "      <td>0</td>\n",
       "      <td>nonexistent</td>\n",
       "      <td>1.1</td>\n",
       "      <td>93.994</td>\n",
       "      <td>-36.4</td>\n",
       "      <td>4.857</td>\n",
       "      <td>5191.0</td>\n",
       "      <td>no</td>\n",
       "    </tr>\n",
       "    <tr>\n",
       "      <th>4</th>\n",
       "      <td>56</td>\n",
       "      <td>services</td>\n",
       "      <td>married</td>\n",
       "      <td>high.school</td>\n",
       "      <td>no</td>\n",
       "      <td>no</td>\n",
       "      <td>yes</td>\n",
       "      <td>telephone</td>\n",
       "      <td>may</td>\n",
       "      <td>mon</td>\n",
       "      <td>...</td>\n",
       "      <td>1</td>\n",
       "      <td>999</td>\n",
       "      <td>0</td>\n",
       "      <td>nonexistent</td>\n",
       "      <td>1.1</td>\n",
       "      <td>93.994</td>\n",
       "      <td>-36.4</td>\n",
       "      <td>4.857</td>\n",
       "      <td>5191.0</td>\n",
       "      <td>no</td>\n",
       "    </tr>\n",
       "  </tbody>\n",
       "</table>\n",
       "<p>5 rows × 21 columns</p>\n",
       "</div>"
      ],
      "text/plain": [
       "   age        job  marital    education  default housing loan    contact  \\\n",
       "0   56  housemaid  married     basic.4y       no      no   no  telephone   \n",
       "1   57   services  married  high.school  unknown      no   no  telephone   \n",
       "2   37   services  married  high.school       no     yes   no  telephone   \n",
       "3   40     admin.  married     basic.6y       no      no   no  telephone   \n",
       "4   56   services  married  high.school       no      no  yes  telephone   \n",
       "\n",
       "  month day_of_week  ...  campaign  pdays  previous     poutcome emp.var.rate  \\\n",
       "0   may         mon  ...         1    999         0  nonexistent          1.1   \n",
       "1   may         mon  ...         1    999         0  nonexistent          1.1   \n",
       "2   may         mon  ...         1    999         0  nonexistent          1.1   \n",
       "3   may         mon  ...         1    999         0  nonexistent          1.1   \n",
       "4   may         mon  ...         1    999         0  nonexistent          1.1   \n",
       "\n",
       "   cons.price.idx  cons.conf.idx  euribor3m  nr.employed   y  \n",
       "0          93.994          -36.4      4.857       5191.0  no  \n",
       "1          93.994          -36.4      4.857       5191.0  no  \n",
       "2          93.994          -36.4      4.857       5191.0  no  \n",
       "3          93.994          -36.4      4.857       5191.0  no  \n",
       "4          93.994          -36.4      4.857       5191.0  no  \n",
       "\n",
       "[5 rows x 21 columns]"
      ]
     },
     "execution_count": 3,
     "metadata": {},
     "output_type": "execute_result"
    }
   ],
   "source": [
    "import pandas as pd \n",
    "\n",
    "# Load dataset\n",
    "df = pd.read_csv(\"C:\\\\Users\\\\Admin\\\\Downloads\\\\bank+marketing\\\\bank-additional\\\\bank-additional-full.csv\", sep = \";\")\n",
    "\n",
    "# First few rows\n",
    "df.head()"
   ]
  },
  {
   "cell_type": "markdown",
   "id": "76f16ea1-f56b-4556-a14f-0528e6cf7f06",
   "metadata": {},
   "source": [
    "### **Step 2 : Understand the problem and target variable**\n",
    "##### **- We are trying to predict whether a customer will purchase a product (y column), which is binary classification problem**\n",
    "##### **y = 'yes' -> customer subscribed**\n",
    "##### **n = 'no' -> customer did not subscribe**"
   ]
  },
  {
   "cell_type": "code",
   "execution_count": 5,
   "id": "5aa2ea3f-95e6-4112-ab27-07619ae63476",
   "metadata": {},
   "outputs": [
    {
     "data": {
      "text/plain": [
       "y\n",
       "no     0.887346\n",
       "yes    0.112654\n",
       "Name: proportion, dtype: float64"
      ]
     },
     "execution_count": 5,
     "metadata": {},
     "output_type": "execute_result"
    }
   ],
   "source": [
    "df['y'].value_counts(normalize = True)"
   ]
  },
  {
   "cell_type": "markdown",
   "id": "7d34e761-c43c-4b10-a073-f66a102bc64e",
   "metadata": {},
   "source": [
    "##### **- The target variable 'y' is highly imbalanced - ~89% of clients did not subscribed, and only 11% did.**\n",
    "##### **- This class imbalance may affect model performane**"
   ]
  },
  {
   "cell_type": "markdown",
   "id": "142082c7-d9cf-43c7-abe9-0592762090c7",
   "metadata": {},
   "source": [
    "### **Step 3 : Basic Data Exploration**"
   ]
  },
  {
   "cell_type": "code",
   "execution_count": 8,
   "id": "8c345e25-7f61-4bd3-b891-d870fde7fc4b",
   "metadata": {},
   "outputs": [
    {
     "name": "stdout",
     "output_type": "stream",
     "text": [
      "Dataset Shape : \n",
      "(41188, 21)\n"
     ]
    }
   ],
   "source": [
    "# 1. Shape of the dataset\n",
    "print(\"Dataset Shape : \")\n",
    "print(df.shape)"
   ]
  },
  {
   "cell_type": "code",
   "execution_count": 9,
   "id": "68857612-7e29-4d0e-b5b6-4757459941ba",
   "metadata": {},
   "outputs": [
    {
     "name": "stdout",
     "output_type": "stream",
     "text": [
      "\n",
      "Info : \n",
      "<class 'pandas.core.frame.DataFrame'>\n",
      "RangeIndex: 41188 entries, 0 to 41187\n",
      "Data columns (total 21 columns):\n",
      " #   Column          Non-Null Count  Dtype  \n",
      "---  ------          --------------  -----  \n",
      " 0   age             41188 non-null  int64  \n",
      " 1   job             41188 non-null  object \n",
      " 2   marital         41188 non-null  object \n",
      " 3   education       41188 non-null  object \n",
      " 4   default         41188 non-null  object \n",
      " 5   housing         41188 non-null  object \n",
      " 6   loan            41188 non-null  object \n",
      " 7   contact         41188 non-null  object \n",
      " 8   month           41188 non-null  object \n",
      " 9   day_of_week     41188 non-null  object \n",
      " 10  duration        41188 non-null  int64  \n",
      " 11  campaign        41188 non-null  int64  \n",
      " 12  pdays           41188 non-null  int64  \n",
      " 13  previous        41188 non-null  int64  \n",
      " 14  poutcome        41188 non-null  object \n",
      " 15  emp.var.rate    41188 non-null  float64\n",
      " 16  cons.price.idx  41188 non-null  float64\n",
      " 17  cons.conf.idx   41188 non-null  float64\n",
      " 18  euribor3m       41188 non-null  float64\n",
      " 19  nr.employed     41188 non-null  float64\n",
      " 20  y               41188 non-null  object \n",
      "dtypes: float64(5), int64(5), object(11)\n",
      "memory usage: 6.6+ MB\n",
      "None\n"
     ]
    }
   ],
   "source": [
    "# 2. Data types and non-null counts\n",
    "print(\"\\nInfo : \")\n",
    "print(df.info())"
   ]
  },
  {
   "cell_type": "code",
   "execution_count": 10,
   "id": "d561cf7a-a473-40fe-b7ff-057f69b4330f",
   "metadata": {},
   "outputs": [
    {
     "name": "stdout",
     "output_type": "stream",
     "text": [
      "\n",
      "Sample Data : \n",
      "   age        job  marital    education  default housing loan    contact  \\\n",
      "0   56  housemaid  married     basic.4y       no      no   no  telephone   \n",
      "1   57   services  married  high.school  unknown      no   no  telephone   \n",
      "2   37   services  married  high.school       no     yes   no  telephone   \n",
      "3   40     admin.  married     basic.6y       no      no   no  telephone   \n",
      "4   56   services  married  high.school       no      no  yes  telephone   \n",
      "\n",
      "  month day_of_week  ...  campaign  pdays  previous     poutcome emp.var.rate  \\\n",
      "0   may         mon  ...         1    999         0  nonexistent          1.1   \n",
      "1   may         mon  ...         1    999         0  nonexistent          1.1   \n",
      "2   may         mon  ...         1    999         0  nonexistent          1.1   \n",
      "3   may         mon  ...         1    999         0  nonexistent          1.1   \n",
      "4   may         mon  ...         1    999         0  nonexistent          1.1   \n",
      "\n",
      "   cons.price.idx  cons.conf.idx  euribor3m  nr.employed   y  \n",
      "0          93.994          -36.4      4.857       5191.0  no  \n",
      "1          93.994          -36.4      4.857       5191.0  no  \n",
      "2          93.994          -36.4      4.857       5191.0  no  \n",
      "3          93.994          -36.4      4.857       5191.0  no  \n",
      "4          93.994          -36.4      4.857       5191.0  no  \n",
      "\n",
      "[5 rows x 21 columns]\n"
     ]
    }
   ],
   "source": [
    "# 3. First 5 rows\n",
    "print(\"\\nSample Data : \")\n",
    "print(df.head())"
   ]
  },
  {
   "cell_type": "code",
   "execution_count": 11,
   "id": "446fe39e-772a-48c4-ab4c-a96c8b42e76e",
   "metadata": {},
   "outputs": [
    {
     "name": "stdout",
     "output_type": "stream",
     "text": [
      "\n",
      "Summary Statistics : \n",
      "               age      duration      campaign         pdays      previous  \\\n",
      "count  41188.00000  41188.000000  41188.000000  41188.000000  41188.000000   \n",
      "mean      40.02406    258.285010      2.567593    962.475454      0.172963   \n",
      "std       10.42125    259.279249      2.770014    186.910907      0.494901   \n",
      "min       17.00000      0.000000      1.000000      0.000000      0.000000   \n",
      "25%       32.00000    102.000000      1.000000    999.000000      0.000000   \n",
      "50%       38.00000    180.000000      2.000000    999.000000      0.000000   \n",
      "75%       47.00000    319.000000      3.000000    999.000000      0.000000   \n",
      "max       98.00000   4918.000000     56.000000    999.000000      7.000000   \n",
      "\n",
      "       emp.var.rate  cons.price.idx  cons.conf.idx     euribor3m   nr.employed  \n",
      "count  41188.000000    41188.000000   41188.000000  41188.000000  41188.000000  \n",
      "mean       0.081886       93.575664     -40.502600      3.621291   5167.035911  \n",
      "std        1.570960        0.578840       4.628198      1.734447     72.251528  \n",
      "min       -3.400000       92.201000     -50.800000      0.634000   4963.600000  \n",
      "25%       -1.800000       93.075000     -42.700000      1.344000   5099.100000  \n",
      "50%        1.100000       93.749000     -41.800000      4.857000   5191.000000  \n",
      "75%        1.400000       93.994000     -36.400000      4.961000   5228.100000  \n",
      "max        1.400000       94.767000     -26.900000      5.045000   5228.100000  \n"
     ]
    }
   ],
   "source": [
    "# 4. Summary Statistics\n",
    "print(\"\\nSummary Statistics : \")\n",
    "print(df.describe())"
   ]
  },
  {
   "cell_type": "code",
   "execution_count": 12,
   "id": "1767badc-29b5-49f8-b1a5-b91800b21f73",
   "metadata": {},
   "outputs": [
    {
     "name": "stdout",
     "output_type": "stream",
     "text": [
      "\n",
      "Missing Values : \n",
      "age               0\n",
      "job               0\n",
      "marital           0\n",
      "education         0\n",
      "default           0\n",
      "housing           0\n",
      "loan              0\n",
      "contact           0\n",
      "month             0\n",
      "day_of_week       0\n",
      "duration          0\n",
      "campaign          0\n",
      "pdays             0\n",
      "previous          0\n",
      "poutcome          0\n",
      "emp.var.rate      0\n",
      "cons.price.idx    0\n",
      "cons.conf.idx     0\n",
      "euribor3m         0\n",
      "nr.employed       0\n",
      "y                 0\n",
      "dtype: int64\n"
     ]
    }
   ],
   "source": [
    "# 5. Check for missing values\n",
    "print(\"\\nMissing Values : \")\n",
    "print(df.isnull().sum())"
   ]
  },
  {
   "cell_type": "markdown",
   "id": "88275672-8e25-4d0e-8a81-0b5f77c70533",
   "metadata": {},
   "source": [
    "##### **- Shape : The dataset has 41,188 rows and 21 columns**\n",
    "##### **- No missing values : the data is clean and complete**\n",
    "##### **- Target column 'y' is categorical with values like \"yes\" and \"no\"**"
   ]
  },
  {
   "cell_type": "markdown",
   "id": "bc37d271-ab91-49a4-96e8-52165e514e73",
   "metadata": {},
   "source": [
    "### **Step 4 : Data Preprocessing**"
   ]
  },
  {
   "cell_type": "markdown",
   "id": "0204f039-071c-4a4e-b0ed-7171714e2ade",
   "metadata": {},
   "source": [
    "#### **4.1 : Drop the 'duration' column**"
   ]
  },
  {
   "cell_type": "code",
   "execution_count": 16,
   "id": "0daa6fbe-eef8-4f16-bd3b-415432adfeb2",
   "metadata": {},
   "outputs": [],
   "source": [
    "df = df.drop(columns = ['duration'])"
   ]
  },
  {
   "cell_type": "markdown",
   "id": "c0d3dd2c-57b8-4c73-ab17-dc431327dbdd",
   "metadata": {},
   "source": [
    "#### **4.2 : Encode the target column 'y'**\n",
    "##### **- Convert the target variable from 'yes' and 'no' to 1 and 0**"
   ]
  },
  {
   "cell_type": "code",
   "execution_count": 18,
   "id": "c144ef87-b4ed-43d9-8654-6a8121051bf0",
   "metadata": {},
   "outputs": [],
   "source": [
    "df['y'] = df['y'].map({'yes' : 1, 'no' : 0})"
   ]
  },
  {
   "cell_type": "markdown",
   "id": "5c897bf9-99c0-40f4-84be-143c17b80b99",
   "metadata": {},
   "source": [
    "#### **4.3 : Split into Feature (X) and Target (y)**"
   ]
  },
  {
   "cell_type": "code",
   "execution_count": 20,
   "id": "6392caf0-468d-4003-8189-653f047c5afe",
   "metadata": {},
   "outputs": [],
   "source": [
    "X = df.drop(columns = ['y'])\n",
    "y = df['y']"
   ]
  },
  {
   "cell_type": "markdown",
   "id": "3405d228-3aab-47a9-bcd5-85f376174d9e",
   "metadata": {},
   "source": [
    "#### **4.4 : Encode categorical features**\n",
    "##### **- There are many categorical columns, like 'job', 'marital', 'education'**\n",
    "##### **- Lets use one-hot encoding to convert them into numeric format**"
   ]
  },
  {
   "cell_type": "code",
   "execution_count": 22,
   "id": "f4a6c342-54b9-4a3a-b3fa-1df4890dcf47",
   "metadata": {},
   "outputs": [],
   "source": [
    "X_encoded = pd.get_dummies(X, drop_first = True)"
   ]
  },
  {
   "cell_type": "markdown",
   "id": "91402a5b-17c2-45fc-b0c6-98bead2524ff",
   "metadata": {},
   "source": [
    "### **Step 5 : Train-Test Split & Model Training**"
   ]
  },
  {
   "cell_type": "code",
   "execution_count": 36,
   "id": "819c2aec-0940-40be-be20-066a7ee1236e",
   "metadata": {},
   "outputs": [
    {
     "name": "stdout",
     "output_type": "stream",
     "text": [
      "Accuracy :  0.8402524884680748\n",
      "\n",
      "Confusion Matrix :  [[6612  698]\n",
      " [ 618  310]]\n",
      "\n",
      "Classification Report :                precision    recall  f1-score   support\n",
      "\n",
      "           0       0.91      0.90      0.91      7310\n",
      "           1       0.31      0.33      0.32       928\n",
      "\n",
      "    accuracy                           0.84      8238\n",
      "   macro avg       0.61      0.62      0.61      8238\n",
      "weighted avg       0.85      0.84      0.84      8238\n",
      "\n"
     ]
    }
   ],
   "source": [
    "from sklearn.model_selection import train_test_split\n",
    "from sklearn.tree import DecisionTreeClassifier\n",
    "from sklearn.metrics import classification_report, confusion_matrix, accuracy_score\n",
    "\n",
    "# Split data\n",
    "X_train, X_test, y_train, y_test = train_test_split(X_encoded, y, test_size = 0.2, random_state = 42, stratify = y)\n",
    "\n",
    "# Train Decision Tree Classifier\n",
    "clf = DecisionTreeClassifier(random_state = 42)\n",
    "clf.fit(X_train, y_train)\n",
    "\n",
    "# Predictions\n",
    "y_pred = clf.predict(X_test)\n",
    "\n",
    "# Evaluation\n",
    "print(\"Accuracy : \", accuracy_score(y_test, y_pred))\n",
    "print(\"\\nConfusion Matrix : \", confusion_matrix(y_test, y_pred))\n",
    "print(\"\\nClassification Report : \", classification_report(y_test, y_pred))"
   ]
  },
  {
   "cell_type": "markdown",
   "id": "3a31659c-cbe1-496d-ab91-84167b394f2f",
   "metadata": {},
   "source": [
    "##### **- The model is trained using a Decision Tree Classifier on a balanced train-test split**\n",
    "##### **- Evaluation metrics help understand model accuracy , precision/recall, and how well it handles class imbalance**"
   ]
  },
  {
   "cell_type": "markdown",
   "id": "78147f0c-872b-409e-bb14-9b12cd12435c",
   "metadata": {},
   "source": [
    "### **Step 6 : Model Tuning & Feature Importance**"
   ]
  },
  {
   "cell_type": "markdown",
   "id": "60186cbb-a37c-4a13-bd41-d214cd549633",
   "metadata": {},
   "source": [
    "#### **6.1 : Hyperparameter Tuning**"
   ]
  },
  {
   "cell_type": "code",
   "execution_count": 43,
   "id": "c8a3c05c-dffc-42b3-af96-316d8bec5820",
   "metadata": {},
   "outputs": [
    {
     "name": "stdout",
     "output_type": "stream",
     "text": [
      "Tuned Accuracy :  0.9007040543821316\n",
      "\n",
      "Classification Report :                precision    recall  f1-score   support\n",
      "\n",
      "           0       0.91      0.99      0.95      7310\n",
      "           1       0.73      0.19      0.30       928\n",
      "\n",
      "    accuracy                           0.90      8238\n",
      "   macro avg       0.82      0.59      0.62      8238\n",
      "weighted avg       0.89      0.90      0.87      8238\n",
      "\n"
     ]
    }
   ],
   "source": [
    "from sklearn.model_selection import GridSearchCV\n",
    "\n",
    "# Define parameter grid\n",
    "param_grid = {\n",
    "    'max_depth' : [3, 5, 10, None], \n",
    "    'min_samples_split' : [2, 5, 10]\n",
    "}\n",
    "\n",
    "# Grid Search with Cross-Validation\n",
    "grid = GridSearchCV(DecisionTreeClassifier(random_state = 42), param_grid, cv = 5, scoring = 'accuracy')\n",
    "grid.fit(X_train, y_train)\n",
    "\n",
    "# Best Model\n",
    "best_clf = grid.best_estimator_\n",
    "\n",
    "# Predictions\n",
    "y_pred_best = best_clf.predict(X_test)\n",
    "\n",
    "# Evaluation\n",
    "print(\"Tuned Accuracy : \", accuracy_score(y_test, y_pred_best))\n",
    "print(\"\\nClassification Report : \", classification_report(y_test, y_pred_best))"
   ]
  },
  {
   "cell_type": "markdown",
   "id": "e24f7f29-fa3f-4b55-a27a-349424c42a58",
   "metadata": {},
   "source": [
    "##### **- Model achieved 90% accuracy, but performance on class '1' (positive class) is poor (F1-score = 0.30), indicating class imbalance**\n",
    "##### **- High racall for class 0 (negative class) shows its dominant, while many positive cases are misclassified**"
   ]
  },
  {
   "cell_type": "markdown",
   "id": "5dd62645-f2c3-41f8-bdad-da17168623b3",
   "metadata": {},
   "source": [
    "#### **6.2 : Feature Importance**"
   ]
  },
  {
   "cell_type": "code",
   "execution_count": 57,
   "id": "21f8dbda-6393-4bf4-9b79-e1b7ecf00243",
   "metadata": {},
   "outputs": [
    {
     "data": {
      "image/png": "[encoded data removed]",
      "text/plain": [
       "<Figure size 1000x600 with 1 Axes>"
      ]
     },
     "metadata": {},
     "output_type": "display_data"
    }
   ],
   "source": [
    "import matplotlib.pyplot as plt\n",
    "import seaborn as sns\n",
    "\n",
    "# Plot feature importance\n",
    "importances = best_clf.feature_importances_\n",
    "features = X_train.columns\n",
    "indices = importances.argsort()[::-1]\n",
    "\n",
    "plt.figure(figsize = (10, 6))\n",
    "sns.barplot(x = importances[indices][:10], y = features[indices][:10], color = 'mediumseagreen')\n",
    "plt.title(\"Top 10 Features Importance\")\n",
    "plt.xlabel(\"Importance\")\n",
    "plt.ylabel(\"Features\")\n",
    "plt.tight_layout()\n",
    "plt.show()"
   ]
  },
  {
   "cell_type": "markdown",
   "id": "1f1f9d12-f760-4fcc-af0b-a9e17c1291c8",
   "metadata": {},
   "source": [
    "##### **- 'nr.employed' is the most important predictor, showing a strong influence on subscription outcome**\n",
    "##### **- Other features like 'pdays' and 'cons.conf.idx' have moderate impact, while the rest contribute minimally**"
   ]
  },
  {
   "cell_type": "markdown",
   "id": "7fe35ae0-354f-471c-875e-8d07e0679aff",
   "metadata": {},
   "source": [
    "#### **6.3 : Predict on Test Data & Evaluate Final model**"
   ]
  },
  {
   "cell_type": "code",
   "execution_count": 68,
   "id": "31cb690f-244b-4c52-8c69-30ed0a92f7fe",
   "metadata": {},
   "outputs": [
    {
     "name": "stdout",
     "output_type": "stream",
     "text": [
      "Fitting 3 folds for each of 10 candidates, totalling 30 fits\n"
     ]
    }
   ],
   "source": [
    "from sklearn.ensemble import RandomForestClassifier\n",
    "from sklearn.model_selection import RandomizedSearchCV\n",
    "\n",
    "# Define model\n",
    "rf = RandomForestClassifier()\n",
    "\n",
    "# Define hyperparameters\n",
    "param_dist = {\n",
    "    'n_estimators' : [100, 200, 300], 'max_depth' : [None, 10, 20, 30],\n",
    "    'min_samples_split' : [2, 5, 10], 'min_samples_leaf' : [1, 2, 4]\n",
    "}\n",
    "\n",
    "# RandomizedSearchCV\n",
    "random_search = RandomizedSearchCV(\n",
    "    rf, param_distributions = param_dist, \n",
    "    n_iter = 10, cv = 3, verbose = 1, n_jobs = -1\n",
    ")\n",
    "\n",
    "# Fit the model\n",
    "random_search.fit(X_train, y_train)\n",
    "\n",
    "# Assign the best model\n",
    "rf_best = random_search.best_estimator_"
   ]
  },
  {
   "cell_type": "code",
   "execution_count": 70,
   "id": "d72eac64-2899-4e1d-abfb-fb12407e485e",
   "metadata": {},
   "outputs": [
    {
     "name": "stdout",
     "output_type": "stream",
     "text": [
      "Test Accuracy :  0.9011896091284293\n",
      "\n",
      "Confusion Matrix :  [[7228   82]\n",
      " [ 732  196]]\n",
      "\n",
      "Classification Report :                precision    recall  f1-score   support\n",
      "\n",
      "           0       0.91      0.99      0.95      7310\n",
      "           1       0.71      0.21      0.33       928\n",
      "\n",
      "    accuracy                           0.90      8238\n",
      "   macro avg       0.81      0.60      0.64      8238\n",
      "weighted avg       0.89      0.90      0.88      8238\n",
      "\n"
     ]
    }
   ],
   "source": [
    "# Assign best estimator after tuning\n",
    "rf_best = random_search.best_estimator_\n",
    "\n",
    "# Predict on the test set\n",
    "y_pred_test = rf_best.predict(X_test)\n",
    "\n",
    "# Evaluate\n",
    "from sklearn.metrics import classification_report, confusion_matrix, accuracy_score\n",
    "\n",
    "print(\"Test Accuracy : \", accuracy_score(y_test, y_pred_test))\n",
    "print(\"\\nConfusion Matrix : \", confusion_matrix(y_test, y_pred_test))\n",
    "print(\"\\nClassification Report : \", classification_report(y_test, y_pred_test))"
   ]
  },
  {
   "cell_type": "markdown",
   "id": "666fda2c-daf8-45de-9d58-5b447339b630",
   "metadata": {},
   "source": [
    "##### **- Tuned Random Forest achieved a test accuracy of 90.1%, showing strong overall performance**\n",
    "##### **- However, the model still struggles with class 1 (positive class), achieving only 21% recall, indicating room for improvement in detecting positive responses**"
   ]
  },
  {
   "cell_type": "markdown",
   "id": "62edf802-4100-43dc-bdc8-09550fe2c368",
   "metadata": {},
   "source": [
    "### **Step 8 : Cross-Validation (with 'cross_val_score')**"
   ]
  },
  {
   "cell_type": "code",
   "execution_count": 74,
   "id": "e145e5d3-8167-4df5-88ef-6a33f5639af0",
   "metadata": {},
   "outputs": [
    {
     "name": "stdout",
     "output_type": "stream",
     "text": [
      "Cross-Validation Accuracy Scores :  [0.90212443 0.9016692  0.89924127 0.89787557 0.89787557]\n",
      "Mean CV Accuracy :  0.8997572078907435\n"
     ]
    }
   ],
   "source": [
    "from sklearn.model_selection import cross_val_score\n",
    "import numpy as np\n",
    "\n",
    "# Perform 5-fold cross-validation on the best model\n",
    "cv_scores = cross_val_score(rf_best, X_train, y_train, cv = 5, scoring = 'accuracy')\n",
    "\n",
    "# Display scores\n",
    "print(\"Cross-Validation Accuracy Scores : \", cv_scores)\n",
    "print(\"Mean CV Accuracy : \", np.mean(cv_scores))"
   ]
  },
  {
   "cell_type": "markdown",
   "id": "79b39171-2ad6-4a08-9fe2-311dab0f35f5",
   "metadata": {},
   "source": [
    "##### **- The model demonstrates consistent accuracy across folds, indicating good generalization performance**\n",
    "##### **- Mean CV accuracy (~90%) confirms that the model is reliable and not overfitting**"
   ]
  },
  {
   "cell_type": "code",
   "execution_count": null,
   "id": "b63a3b44-befb-4979-b9c8-996191184a2b",
   "metadata": {},
   "outputs": [],
   "source": []
  }
 ],
 "metadata": {
  "kernelspec": {
   "display_name": "Python 3 (ipykernel)",
   "language": "python",
   "name": "python3"
  },
  "language_info": {
   "codemirror_mode": {
    "name": "ipython",
    "version": 3
   },
   "file_extension": ".py",
   "mimetype": "text/x-python",
   "name": "python",
   "nbconvert_exporter": "python",
   "pygments_lexer": "ipython3",
   "version": "3.12.4"
  }
 },
 "nbformat": 4,
 "nbformat_minor": 5
}
